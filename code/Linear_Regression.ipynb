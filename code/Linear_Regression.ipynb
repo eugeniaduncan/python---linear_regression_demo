{
 "cells": [
  {
   "cell_type": "markdown",
   "metadata": {},
   "source": [
    "# Linear Regression Demo\n",
    "by Eugenia Duncan"
   ]
  },
  {
   "cell_type": "code",
   "execution_count": 42,
   "metadata": {
    "collapsed": true
   },
   "outputs": [],
   "source": [
    "import pandas as pd\n",
    "from numpy import *\n",
    "from sklearn import linear_model\n",
    "import matplotlib.pyplot as plt\n",
    "\n",
    "from matplotlib import rcParams, rc\n",
    "import seaborn as sb"
   ]
  },
  {
   "cell_type": "code",
   "execution_count": 43,
   "metadata": {
    "collapsed": true
   },
   "outputs": [],
   "source": [
    "%matplotlib inline\n",
    "rcParams['figure.figsize'] = 8, 6\n",
    "sb.set_style('whitegrid')"
   ]
  },
  {
   "cell_type": "code",
   "execution_count": 44,
   "metadata": {
    "collapsed": true
   },
   "outputs": [],
   "source": [
    "#Note:\n",
    "#y = mx + b\n",
    "#m is slope, b is y-intercept"
   ]
  },
  {
   "cell_type": "code",
   "execution_count": 45,
   "metadata": {
    "collapsed": false
   },
   "outputs": [
    {
     "name": "stdout",
     "output_type": "stream",
     "text": [
      "The number of points, n, is 3.\n",
      "sum_x = 4\n",
      "sum_y = 2\n",
      "sum_x2 = 10\n",
      "sum_xy = 12\n",
      "x_bar = 1.3333333333333333\n",
      "y_bar = 0.6666666666666666\n",
      "calculated slope, m = 2.0\n",
      "calculated y-int, b = -2.0\n"
     ]
    }
   ],
   "source": [
    "#Linear Regression using the Method of Least Squares\n",
    "#using the predictable\n",
    "#test data\n",
    "#which outputs the exact line y = 2x - 2\n",
    "\n",
    "x = [0, 3, 1]\n",
    "y = [-2, 4, 0]\n",
    "\n",
    "n = len(x)\n",
    "sum_x = sum(i for i in x)\n",
    "sum_y= sum(i for i in y)\n",
    "sum_x2 = sum(i**2 for i in x)\n",
    "\n",
    "sum_xy = 0\n",
    "for i in range(n):\n",
    "    r = x[i] * y[i]\n",
    "    sum_xy = sum([sum_xy, r])\n",
    "\n",
    "avg_x = 0\n",
    "avg_y = 0\n",
    "if n != 0: avg_x = sum_x/n\n",
    "if n != 0: avg_y = sum_y/n\n",
    "\n",
    "m = (n * sum_xy - sum_x * sum_y) / (n * sum_x2 - (sum_x)**2)\n",
    "\n",
    "b = avg_y - m * avg_x\n",
    "\n",
    "print(\"The number of points, n, is {}.\".format(n))\n",
    "print(\"sum_x = {}\".format(sum_x))\n",
    "print(\"sum_y = {}\".format(sum_y))\n",
    "print(\"sum_x2 = {}\".format(sum_x2))\n",
    "print(\"sum_xy = {}\".format(sum_xy))\t\n",
    "print(\"x_bar = {}\".format(avg_x))\n",
    "print(\"y_bar = {}\".format(avg_y))\n",
    "print(\"calculated slope, m = {}\".format(m))\n",
    "print(\"calculated y-int, b = {}\".format(b))"
   ]
  },
  {
   "cell_type": "code",
   "execution_count": 46,
   "metadata": {
    "collapsed": false
   },
   "outputs": [
    {
     "name": "stdout",
     "output_type": "stream",
     "text": [
      "The number of points, n, is 6.\n",
      "sum_x = 9\n",
      "sum_y = 4\n",
      "sum_x2 = 21\n",
      "sum_xy = 16\n",
      "x_bar = 1.5\n",
      "y_bar = 0.6666666666666666\n",
      "calculated slope, m = 1.3333333333333333\n",
      "calculated y-int, b = -1.3333333333333335\n"
     ]
    }
   ],
   "source": [
    "#Linear Regression using the Method of Least Squares\n",
    "#using all of the\n",
    "#actual data\n",
    "#which outputs the estimated line y = (4/3)x - (4/3)\n",
    "\n",
    "x = [0, 3, 1, 1, 3, 1]\n",
    "y = [-2, 4, 0, 2, 1, -1]\n",
    "\n",
    "n = len(x)\n",
    "sum_x = sum(i for i in x)\n",
    "sum_y= sum(i for i in y)\n",
    "sum_x2 = sum(i**2 for i in x)\n",
    "\n",
    "sum_xy = 0\n",
    "for i in range(n):\n",
    "    r = x[i] * y[i]\n",
    "    sum_xy = sum([sum_xy, r])\n",
    "\n",
    "avg_x = 0\n",
    "avg_y = 0\n",
    "if n != 0: avg_x = sum_x/n\n",
    "if n != 0: avg_y = sum_y/n\n",
    "\n",
    "m = (n * sum_xy - sum_x * sum_y) / (n * sum_x2 - (sum_x)**2)\n",
    "\n",
    "b = avg_y - m * avg_x\n",
    "\n",
    "print(\"The number of points, n, is {}.\".format(n))\n",
    "print(\"sum_x = {}\".format(sum_x))\n",
    "print(\"sum_y = {}\".format(sum_y))\n",
    "print(\"sum_x2 = {}\".format(sum_x2))\n",
    "print(\"sum_xy = {}\".format(sum_xy))\t\n",
    "print(\"x_bar = {}\".format(avg_x))\n",
    "print(\"y_bar = {}\".format(avg_y))\n",
    "print(\"calculated slope, m = {}\".format(m))\n",
    "print(\"calculated y-int, b = {}\".format(b))"
   ]
  },
  {
   "cell_type": "code",
   "execution_count": 47,
   "metadata": {
    "collapsed": false
   },
   "outputs": [
    {
     "data": {
      "text/plain": [
       "[<matplotlib.lines.Line2D at 0xc1ed518>]"
      ]
     },
     "execution_count": 47,
     "metadata": {},
     "output_type": "execute_result"
    },
    {
     "data": {
      "image/png": "[encoded data removed]",
      "text/plain": [
       "<matplotlib.figure.Figure at 0xc26aa20>"
      ]
     },
     "metadata": {},
     "output_type": "display_data"
    }
   ],
   "source": [
    "#Linear Regression using Scikit-Learn\n",
    "#using the predictable\n",
    "#test data\n",
    "#which outputs the exact line y = 2x - 2\n",
    "\n",
    "#read data from file and create dataframe\n",
    "#use either the text file or the csv file\n",
    "#df = pd.read_fwf('data4LinRegr1.txt')\n",
    "df = pd.read_csv('C:/Users/user1/Desktop/Linear Regression/data/data1.csv')\n",
    "x, y = df[['x']], df[['y']]\n",
    "\n",
    "#train model on the data\n",
    "lin_reg = linear_model.LinearRegression(normalize=True)\n",
    "lin_reg.fit(x, y)\n",
    "\n",
    "#display the graph\n",
    "plt.scatter(x, y)\n",
    "plt.xlim(xmin=0)\n",
    "plt.ylim(ymin=-2)\n",
    "plt.title(\"Test Data Prediction Line y = 2x - 2\", fontsize=18)\n",
    "plt.xlabel(\"X Values of Plotted Points\", fontsize=12)\n",
    "plt.ylabel(\"Y Values of Plotted Points\", fontsize=12)\n",
    "plt.plot(x, lin_reg.predict(x))"
   ]
  },
  {
   "cell_type": "code",
   "execution_count": 48,
   "metadata": {
    "collapsed": false
   },
   "outputs": [
    {
     "name": "stdout",
     "output_type": "stream",
     "text": [
      "r = 1.0\n"
     ]
    }
   ],
   "source": [
    "#to determine the goodness of fit,\n",
    "#calculate the correlation coefficient\n",
    "print(\"r = \" + str(lin_reg.score(x,y)))"
   ]
  },
  {
   "cell_type": "code",
   "execution_count": 49,
   "metadata": {
    "collapsed": false
   },
   "outputs": [
    {
     "data": {
      "text/plain": [
       "[<matplotlib.lines.Line2D at 0xc639908>]"
      ]
     },
     "execution_count": 49,
     "metadata": {},
     "output_type": "execute_result"
    },
    {
     "data": {
      "image/png": "[encoded data removed]",
      "text/plain": [
       "<matplotlib.figure.Figure at 0xc2b4cf8>"
      ]
     },
     "metadata": {},
     "output_type": "display_data"
    }
   ],
   "source": [
    "#Linear Regression using Scikit-Learn\n",
    "#using all of the\n",
    "#actual data\n",
    "#which outputs the estimated line y = (4/3)x - (4/3)\n",
    "\n",
    "#read data from file and create dataframe\n",
    "#use either the text file or the csv file\n",
    "#df = pd.read_fwf('data4LinRegr2.txt')\n",
    "df = pd.read_csv('C:/Users/user1/Desktop/Linear Regression/data/data2.csv')\n",
    "x, y = df[['x']], df[['y']]\n",
    "\n",
    "#train model on the data\n",
    "lin_reg = linear_model.LinearRegression(normalize=True)\n",
    "lin_reg.fit(x, y)\n",
    "\n",
    "#display the graph\n",
    "plt.scatter(x, y, color='red')\n",
    "plt.title(\"Actual Data Prediction Line y = (4/3)x - (4/3)\", fontsize=18)\n",
    "plt.xlabel(\"X Values of Plotted Points\", fontsize=12)\n",
    "plt.ylabel(\"Y Values of Plotted Points\", fontsize=12)\n",
    "plt.plot(x, lin_reg.predict(x), color='red')"
   ]
  },
  {
   "cell_type": "code",
   "execution_count": 50,
   "metadata": {
    "collapsed": false
   },
   "outputs": [
    {
     "name": "stdout",
     "output_type": "stream",
     "text": [
      "r = 0.571428571429\n"
     ]
    }
   ],
   "source": [
    "#to determine the goodness of fit,\n",
    "#calculate the correlation coefficient\n",
    "print(\"r = \" + str(lin_reg.score(x,y)))"
   ]
  },
  {
   "cell_type": "code",
   "execution_count": 51,
   "metadata": {
    "collapsed": false
   },
   "outputs": [
    {
     "name": "stdout",
     "output_type": "stream",
     "text": [
      "Starting gradient descent at m = 0, b = 0, error = 20.0\n",
      "Running...\n",
      "After 100000 iterations m = 1.9999999999443212, b = -1.9999999998772964, error = 2.151388134526375e-20\n"
     ]
    }
   ],
   "source": [
    "#Linear Regression using Manual Calculation of Gradient Descent\n",
    "#using the predictable\n",
    "#test data\n",
    "#which outputs the exact line y = 2x - 2\n",
    "\n",
    "def compute_error_for_line_given_points(b, m, points):\n",
    "    totalError = 0\n",
    "    for i in range(0, len(points)):\n",
    "        x = points[i, 0]\n",
    "        y = points[i, 1]\n",
    "        totalError += (y - ((m * x) + b)) ** 2\n",
    "    return totalError\n",
    "\n",
    "def step_gradient(b_current, m_current, points, learningRate):\n",
    "    b_gradient = 0\n",
    "    m_gradient = 0\n",
    "    for i in range(0, len(points)):\n",
    "        x = points[i, 0]\n",
    "        y = points[i, 1]\n",
    "        b_gradient += -2 * (y - ((m_current * x) + b_current))\n",
    "        m_gradient += -2 * x * (y - ((m_current * x) + b_current))\n",
    "    new_b = b_current - (learningRate * b_gradient)\n",
    "    new_m = m_current - (learningRate * m_gradient)\n",
    "    return [new_b, new_m]\n",
    "\n",
    "def gradient_descent_runner(points, starting_b, starting_m, learning_rate, num_iterations):\n",
    "    b = starting_b\n",
    "    m = starting_m\n",
    "    for i in range(num_iterations):\n",
    "        b, m = step_gradient(b, m, array(points), learning_rate)\n",
    "    return [b, m]\n",
    "\n",
    "def run():\n",
    "    points = genfromtxt(\"C:/Users/user1/Desktop/Linear Regression/data/data3.csv\", delimiter=\",\")\n",
    "    learning_rate = 0.0001\n",
    "    initial_b = 0 # initial y-intercept guess\n",
    "    initial_m = 0 # initial slope guess\n",
    "    num_iterations = 100000\n",
    "    print (\"Starting gradient descent at m = {0}, b = {1}, error = {2}\".format(initial_m, initial_b, compute_error_for_line_given_points(initial_b, initial_m, points)))\n",
    "    print (\"Running...\")\n",
    "    [b, m] = gradient_descent_runner(points, initial_b, initial_m, learning_rate, num_iterations)\n",
    "    print (\"After {0} iterations m = {1}, b = {2}, error = {3}\".format(num_iterations, m, b, compute_error_for_line_given_points(b, m, points)))\n",
    "\n",
    "run()"
   ]
  },
  {
   "cell_type": "code",
   "execution_count": 52,
   "metadata": {
    "collapsed": false
   },
   "outputs": [
    {
     "name": "stdout",
     "output_type": "stream",
     "text": [
      "Starting gradient descent at m = 0, b = 0, error = 26.0\n",
      "Running...\n",
      "After 100000 iterations m = 1.3333333333331485, b = -1.333333333332964, error = 10.0\n"
     ]
    }
   ],
   "source": [
    "#Linear Regression using Manual Calculation of Gradient Descent\n",
    "#using all of the\n",
    "#actual data\n",
    "#which outputs the estimated line y = (4/3)x - (4/3)\n",
    "\n",
    "def compute_error_for_line_given_points(b, m, points):\n",
    "    totalError = 0\n",
    "    for i in range(0, len(points)):\n",
    "        x = points[i, 0]\n",
    "        y = points[i, 1]\n",
    "        totalError += (y - ((m * x) + b)) ** 2\n",
    "    return totalError\n",
    "\n",
    "def step_gradient(b_current, m_current, points, learningRate):\n",
    "    b_gradient = 0\n",
    "    m_gradient = 0\n",
    "    for i in range(0, len(points)):\n",
    "        x = points[i, 0]\n",
    "        y = points[i, 1]\n",
    "        b_gradient += -2 * (y - ((m_current * x) + b_current))\n",
    "        m_gradient += -2 * x * (y - ((m_current * x) + b_current))\n",
    "    new_b = b_current - (learningRate * b_gradient)\n",
    "    new_m = m_current - (learningRate * m_gradient)\n",
    "    return [new_b, new_m]\n",
    "\n",
    "def gradient_descent_runner(points, starting_b, starting_m, learning_rate, num_iterations):\n",
    "    b = starting_b\n",
    "    m = starting_m\n",
    "    for i in range(num_iterations):\n",
    "        b, m = step_gradient(b, m, array(points), learning_rate)\n",
    "    return [b, m]\n",
    "\n",
    "def run():\n",
    "    points = genfromtxt(\"C:/Users/user1/Desktop/Linear Regression/data/data4.csv\", delimiter=\",\")\n",
    "    learning_rate = 0.0001\n",
    "    initial_b = 0 # initial y-intercept guess\n",
    "    initial_m = 0 # initial slope guess\n",
    "    num_iterations = 100000\n",
    "    print (\"Starting gradient descent at m = {0}, b = {1}, error = {2}\".format(initial_m, initial_b, compute_error_for_line_given_points(initial_b, initial_m, points)))\n",
    "    print (\"Running...\")\n",
    "    [b, m] = gradient_descent_runner(points, initial_b, initial_m, learning_rate, num_iterations)\n",
    "    print (\"After {0} iterations m = {1}, b = {2}, error = {3}\".format(num_iterations, m, b, compute_error_for_line_given_points(b, m, points)))\n",
    "\n",
    "run()"
   ]
  }
 ],
 "metadata": {
  "kernelspec": {
   "display_name": "Python 3",
   "language": "python",
   "name": "python3"
  },
  "language_info": {
   "codemirror_mode": {
    "name": "ipython",
    "version": 3
   },
   "file_extension": ".py",
   "mimetype": "text/x-python",
   "name": "python",
   "nbconvert_exporter": "python",
   "pygments_lexer": "ipython3",
   "version": "3.5.1"
  }
 },
 "nbformat": 4,
 "nbformat_minor": 0
}
